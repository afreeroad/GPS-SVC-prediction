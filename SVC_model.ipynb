{
 "cells": [
  {
   "cell_type": "code",
   "execution_count": 16,
   "metadata": {},
   "outputs": [
    {
     "name": "stdout",
     "output_type": "stream",
     "text": [
      "   Unnamed: 0  Unnamed: 0.1 country isocode   ison                 region  \\\n",
      "0           0             0  Turkey     TUR  792.0  Europe & Central Asia   \n",
      "1           1             1  Turkey     TUR  792.0  Europe & Central Asia   \n",
      "2           2             2  Turkey     TUR  792.0  Europe & Central Asia   \n",
      "3           3             3  Turkey     TUR  792.0  Europe & Central Asia   \n",
      "4           4             4  Turkey     TUR  792.0  Europe & Central Asia   \n",
      "\n",
      "  language        date     id_gallup       wgt  patience  risktaking  \\\n",
      "0  Turkish  2012-03-07  7.100800e+12  0.271783  0.047176    1.020203   \n",
      "1  Turkish  2012-03-08  7.100800e+12  0.271783 -0.675698    0.387177   \n",
      "2  Turkish  2012-03-08  7.100800e+12  0.442259  0.318254    1.020203   \n",
      "3  Turkish  2012-03-07  7.100800e+12  1.423671  0.498972    1.271527   \n",
      "4  Turkish  2012-03-07  7.100800e+12  0.705356  0.589331    1.122619   \n",
      "\n",
      "   posrecip  negrecip  altruism     trust  subj_math_skills  \\\n",
      "0  0.594384 -0.367175 -0.139953  1.679754               7.0   \n",
      "1  0.662234  0.077251 -0.139953  0.950434               3.0   \n",
      "2 -0.000930  0.077251 -0.606967  0.585774               7.0   \n",
      "3  0.959891  0.077251  0.560569  0.585774               7.0   \n",
      "4  1.325398 -0.367175  0.327062  1.679754               9.0   \n",
      "\n",
      "                income  \n",
      "0  Upper middle income  \n",
      "1  Upper middle income  \n",
      "2  Upper middle income  \n",
      "3  Upper middle income  \n",
      "4  Upper middle income  \n"
     ]
    }
   ],
   "source": [
    "import pandas as pd\n",
    "import numpy as np\n",
    "import pprint as pprint\n",
    "from scipy import stats\n",
    "import scipy.stats as st \n",
    "from scipy.stats import norm\n",
    "import matplotlib.pyplot as plt\n",
    "import statsmodels.formula.api as sm\n",
    "from sklearn.cross_validation import train_test_split\n",
    "from sklearn.svm import SVC\n",
    "from sklearn.model_selection import train_test_split\n",
    "from sklearn.preprocessing import LabelEncoder, StandardScaler\n",
    "ind = pd.read_csv('new_individual.csv')\n",
    "ind = ind.dropna()\n",
    "print(ind.head())"
   ]
  },
  {
   "cell_type": "code",
   "execution_count": 17,
   "metadata": {},
   "outputs": [
    {
     "name": "stdout",
     "output_type": "stream",
     "text": [
      "   patience  risktaking  posrecip  negrecip  altruism     trust  target\n",
      "0  0.047176    1.020203  0.594384 -0.367175 -0.139953  1.679754  Turkey\n",
      "1 -0.675698    0.387177  0.662234  0.077251 -0.139953  0.950434  Turkey\n",
      "2  0.318254    1.020203 -0.000930  0.077251 -0.606967  0.585774  Turkey\n",
      "3  0.498972    1.271527  0.959891  0.077251  0.560569  0.585774  Turkey\n",
      "4  0.589331    1.122619  1.325398 -0.367175  0.327062  1.679754  Turkey\n",
      "75704\n"
     ]
    }
   ],
   "source": [
    "df = pd.DataFrame()\n",
    "df['patience'] = ind['patience']\n",
    "df['risktaking'] = ind['risktaking']\n",
    "df['posrecip'] = ind['posrecip']\n",
    "df['negrecip'] = ind['negrecip']\n",
    "df['altruism'] = ind['altruism']\n",
    "df['trust'] = ind['trust']\n",
    "df['target'] = ind['country']\n",
    "print(df.head())\n",
    "print(len(df))"
   ]
  },
  {
   "cell_type": "code",
   "execution_count": 18,
   "metadata": {},
   "outputs": [],
   "source": [
    "X = df[['patience','risktaking','posrecip','negrecip', 'altruism', 'trust']].values\n",
    "Y = df[['target']].values"
   ]
  },
  {
   "cell_type": "code",
   "execution_count": 19,
   "metadata": {},
   "outputs": [
    {
     "name": "stderr",
     "output_type": "stream",
     "text": [
      "/Users/Patrick/anaconda3/envs/python2/lib/python2.7/site-packages/sklearn/preprocessing/label.py:111: DataConversionWarning: A column-vector y was passed when a 1d array was expected. Please change the shape of y to (n_samples, ), for example using ravel().\n",
      "  y = column_or_1d(y, warn=True)\n"
     ]
    }
   ],
   "source": [
    "label_encoder = LabelEncoder()\n",
    "Y = label_encoder.fit_transform(Y)"
   ]
  },
  {
   "cell_type": "code",
   "execution_count": 20,
   "metadata": {},
   "outputs": [
    {
     "name": "stdout",
     "output_type": "stream",
     "text": [
      "32\n",
      "                    target   Y\n",
      "32  Bosnia and Herzegovina  32\n"
     ]
    }
   ],
   "source": [
    "X_train , X_test, y_train, y_test = train_test_split(X,Y)\n",
    "clf = SVC(C=1.0, kernel='rbf').fit(X_train,y_train)\n",
    "prediction = int(clf.predict([[0.04717605, 1.0202034, 1.0202034, -0.3671751, -0.1399527, 1.6797541]]))\n",
    "print(prediction)\n",
    "target = list(set(df['target']))\n",
    "Y_list = list(set(Y))\n",
    "\n",
    "countries = pd.DataFrame()\n",
    "countries['target'] = target\n",
    "countries['Y'] = Y_list\n",
    "print(countries.loc[(countries.Y == prediction)])"
   ]
  },
  {
   "cell_type": "code",
   "execution_count": null,
   "metadata": {},
   "outputs": [],
   "source": [
    "# import ind and new_ind, and compare the values for: \n",
    "# ind.loc(ind['country'] == 'Bosnia Herzegovina')\n",
    "# and\n",
    "# new_ind.loc(new_ind['country'] == 'Bosnia and Herzegovina')\n",
    "# are they different?\n",
    "\n",
    "## also, problem with the SVC model...with ind, return index 31 Zimbabwe, \n",
    "## but with new_ind, returns index 32 Bosnia and Herzegovina\n",
    "## this should not be...should return the same...suspect new_ind is not engineered properly.\n"
   ]
  }
 ],
 "metadata": {
  "kernelspec": {
   "display_name": "Python 2",
   "language": "python",
   "name": "python2"
  },
  "language_info": {
   "codemirror_mode": {
    "name": "ipython",
    "version": 2
   },
   "file_extension": ".py",
   "mimetype": "text/x-python",
   "name": "python",
   "nbconvert_exporter": "python",
   "pygments_lexer": "ipython2",
   "version": "2.7.15"
  }
 },
 "nbformat": 4,
 "nbformat_minor": 2
}
